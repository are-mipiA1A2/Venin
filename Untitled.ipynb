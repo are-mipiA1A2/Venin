{
 "cells": [
  {
   "cell_type": "markdown",
   "metadata": {},
   "source": [
    "# Are-MipiA1A2 : Venin"
   ]
  },
  {
   "cell_type": "code",
   "execution_count": 1,
   "metadata": {},
   "outputs": [
    {
     "name": "stdout",
     "output_type": "stream",
     "text": [
      "2\n",
      "5\n"
     ]
    }
   ],
   "source": [
    "class globules_blancs:\n",
    "    def __init__(self):\n",
    "        self.efficacite = efficaciteGB\n",
    "class anti_coagulants:\n",
    "    def __init__(self):\n",
    "        self.efficacite = efficaciteAC\n",
    "\n",
    "efficaciteGB = 2\n",
    "efficaciteAC = 5\n",
    "gb = globules_blancs()\n",
    "ac = anti_coagulants()\n",
    "print(gb.efficacite)\n",
    "print(ac.efficacite)\n"
   ]
  },
  {
   "cell_type": "code",
   "execution_count": null,
   "metadata": {},
   "outputs": [],
   "source": []
  }
 ],
 "metadata": {
  "kernelspec": {
   "display_name": "Python 3",
   "language": "python",
   "name": "python3"
  },
  "language_info": {
   "codemirror_mode": {
    "name": "ipython",
    "version": 3
   },
   "file_extension": ".py",
   "mimetype": "text/x-python",
   "name": "python",
   "nbconvert_exporter": "python",
   "pygments_lexer": "ipython3",
   "version": "3.6.4"
  }
 },
 "nbformat": 4,
 "nbformat_minor": 2
}
