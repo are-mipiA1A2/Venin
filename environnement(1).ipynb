{
 "cells": [
  {
   "cell_type": "code",
   "execution_count": 2,
   "metadata": {},
   "outputs": [
    {
     "name": "stdout",
     "output_type": "stream",
     "text": [
      "[0 0 0 0 0 0]\n"
     ]
    }
   ],
   "source": [
    "import numpy as np\n",
    "bras = np.array([0, 0, 0, 0, 0, 0])\n",
    "print (bras)"
   ]
  },
  {
   "cell_type": "code",
   "execution_count": 30,
   "metadata": {},
   "outputs": [
    {
     "name": "stdout",
     "output_type": "stream",
     "text": [
      "2.0503997802734375e-05\n"
     ]
    }
   ],
   "source": [
    "#def à faire:\n",
    "constitution du solide (100000GB)\n",
    "jambe\n",
    "tp pour bras et jambe"
   ]
  },
  {
   "cell_type": "code",
   "execution_count": 34,
   "metadata": {},
   "outputs": [],
   "source": [
    "def temps_putrefaction (tp):\n",
    "    t = 0\n",
    "    d= 0.20 #(m)\n",
    "    v= 1 #(m/s)\n",
    "    for i in bras:\n",
    "        if bras[i] == 100000:\n",
    "            t = t + d/v\n",
    "            if t >= tp:\n",
    "                print (\"amputer bras\")"
   ]
  },
  {
   "cell_type": "code",
   "execution_count": null,
   "metadata": {},
   "outputs": [],
   "source": []
  }
 ],
 "metadata": {
  "kernelspec": {
   "display_name": "Python 3",
   "language": "python",
   "name": "python3"
  },
  "language_info": {
   "codemirror_mode": {
    "name": "ipython",
    "version": 3
   },
   "file_extension": ".py",
   "mimetype": "text/x-python",
   "name": "python",
   "nbconvert_exporter": "python",
   "pygments_lexer": "ipython3",
   "version": "3.4.2"
  }
 },
 "nbformat": 4,
 "nbformat_minor": 2
}
