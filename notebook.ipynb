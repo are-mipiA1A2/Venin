{
 "cells": [
  {
   "cell_type": "markdown",
   "metadata": {},
   "source": [
    "# Are-MipiA1A2 : Venin"
   ]
  },
  {
   "cell_type": "code",
   "execution_count": 40,
   "metadata": {},
   "outputs": [],
   "source": [
    "import numpy as np\n",
    "from numpy import random\n",
    "import matplotlib.pyplot as plt\n",
    "\n",
    "\n",
    "class agent :\n",
    "    def __init__(self):\n",
    "        self.efficacite = 0\n",
    "        self.spawn = 0\n",
    "        self.coagulation = 0\n",
    "\n",
    "globules_rouges = agent()\n",
    "globules_blancs = agent()\n",
    "plaquettes = agent()\n",
    "venin = agent()\n",
    "coagulation = agent()\n",
    "anti_coagulant = agent()\n",
    "\n",
    "\n",
    "\n",
    "\"\"\"Type : Cell = List[float**6]\"\"\""
   ]
  },
  {
   "cell_type": "code",
   "execution_count": 194,
   "metadata": {},
   "outputs": [],
   "source": [
    "def init_matrice(N):\n",
    "    \"\"\"Int -> Mat[Cell]\n",
    "    crée une matrice de taille N*N de type : Mat[list[Gr,Gb,Pl,Ve,Co,Ac]]\"\"\"\n",
    "    matrix = np.zeros((N,N,6))\n",
    "    mat = np.random.uniform(low=0.878, high=0.985, size=(N,N))\n",
    "    for i in range(N):\n",
    "        for j in range(N):\n",
    "            x = mat[i,j]\n",
    "            matrix[i,j]=(x , (1 - x)*0.023 , (1 - x)*0.977,0,(1 - x)*0.977,0)\n",
    "    return matrix\n",
    "            "
   ]
  },
  {
   "cell_type": "code",
   "execution_count": 155,
   "metadata": {},
   "outputs": [],
   "source": [
    "#def interact\n",
    "#def selfinteract(cell):\n",
    "def main():\n",
    "    stop = False\n",
    "    while not stop:        \n",
    "        for i in range(N):\n",
    "            for j in range(N):\n",
    "                selfinteract()\n",
    "        for i in range(N):\n",
    "            for j in range(N):\n",
    "        \n",
    "        stop = mort(mat)\n",
    "\n",
    "        \n",
    "    "
   ]
  },
  {
   "cell_type": "code",
   "execution_count": null,
   "metadata": {},
   "outputs": [],
   "source": [
    "\"\"\"def dectohex(n):\n",
    "    p=8\n",
    "    hexlist=['0','1','2','3','4','5','6','7','8','9','A','B','C','D','E','F']\n",
    "    binlist=[0,0,0,0,0,0,0,0]\n",
    "    r=''\n",
    "    while p!=0:\n",
    "        p=p-1\n",
    "        if 2**p <= n:\n",
    "            n=n-2**p\n",
    "            binlist[p] = 1\n",
    "    c=0\n",
    "    s=0\n",
    "    for i in range(0,4):\n",
    "        s = s+ (2**i)*binlist[i+4]\n",
    "        c=c+1\n",
    "    r = '#'+ hexlist[s] \n",
    "    \n",
    "    c=0\n",
    "    s=0\n",
    "    for i in range(0,4):\n",
    "        s = s+ (2**i)*binlist[i]\n",
    "        c=c+1\n",
    "    r = r + hexlist[s] +\"0000\"\n",
    "        \n",
    "    print(binlist)\n",
    "    return r \"\"\""
   ]
  }
 ],
 "metadata": {
  "kernelspec": {
   "display_name": "Python 3",
   "language": "python",
   "name": "python3"
  },
  "language_info": {
   "codemirror_mode": {
    "name": "ipython",
    "version": 3
   },
   "file_extension": ".py",
   "mimetype": "text/x-python",
   "name": "python",
   "nbconvert_exporter": "python",
   "pygments_lexer": "ipython3",
   "version": "3.6.4"
  }
 },
 "nbformat": 4,
 "nbformat_minor": 2
}
