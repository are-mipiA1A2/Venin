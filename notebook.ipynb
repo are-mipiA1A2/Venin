{
 "cells": [
  {
   "cell_type": "markdown",
   "metadata": {},
   "source": [
    "# Are-MipiA1A2 : Venin"
   ]
  },
  {
   "cell_type": "code",
   "execution_count": 1,
   "metadata": {},
   "outputs": [],
   "source": [
    "import numpy as np\n",
    "from numpy import random\n",
    "import matplotlib.pyplot as plt\n",
    "\n",
    "\n",
    "#class agent :\n",
    "#    def __init__(self):\n",
    "#        self.efficacite= 0.1\n",
    "#        self.spawn = 0.1\n",
    "#        self.coagulation = 0.1\n",
    "#        self.perte = 0.1\n",
    "#\n",
    "#globule_rouge = agent()\n",
    "#globule_blanc = agent()\n",
    "#plaquette = agent()\n",
    "#venin = agent()\n",
    "#coagulation = agent()\n",
    "#anti_coagulant = agent()\n",
    "\n",
    "\n",
    "\n",
    "#\"\"\"Type : Cell = List[float**6]\"\"\"\n",
    "\n",
    "\n",
    "\n",
    "\n",
    "\n",
    "anti_coagulantefficacite = 0.1\n",
    "globule_blancefficacite = 0.1\n",
    "veninefficacite = 0.1\n",
    "plaquettescoagulation = 0.1\n",
    "veninechange=0.5\n",
    "globule_blancechange=0.5"
   ]
  },
  {
   "cell_type": "code",
   "execution_count": 2,
   "metadata": {},
   "outputs": [],
   "source": [
    "def init_matrice(N):\n",
    "    \"\"\"Int -> Mat[Cell]\n",
    "    crée une matrice de taille N*N de type : Mat[list[Gr,Gb,Pl,Ve,Co,Ac,boost]]\"\"\"\n",
    "    matrix = np.zeros((N,N,7))\n",
    "    mat = np.random.uniform(low=0.878, high=0.985, size=(N,N))\n",
    "    for i in range(N):\n",
    "        for j in range(N):\n",
    "            x = mat[i,j]\n",
    "            matrix[i,j]=(x , (1 - x)*0.023 , (1 - x)*0.977,0,(1 - x)*0.977,0,1)\n",
    "    return matrix\n",
    "            "
   ]
  },
  {
   "cell_type": "code",
   "execution_count": 3,
   "metadata": {},
   "outputs": [],
   "source": [
    "def randomlist(N):\n",
    "    \"\"\"Int => list[int]*\n",
    "    retourne une liste de nombres dans un ordre aléatoire len(list)=N \"\"\"\n",
    "    list0 = [i for i in range(N)]\n",
    "    list1=[]\n",
    "    rlist=[]\n",
    "    for i in range(n):\n",
    "        e = np.random.choice(len(list0))\n",
    "        rlist.append(list0[e])\n",
    "        list1=[j for j in list0 if j!=list0[e]]\n",
    "        list0=list1\n",
    "    return rlist"
   ]
  },
  {
   "cell_type": "code",
   "execution_count": 96,
   "metadata": {},
   "outputs": [],
   "source": [
    "def selfinteract(mat,N):\n",
    "    matrix = mat\n",
    "    a = [0 for i in range(7)]\n",
    "    for i in range(N):\n",
    "        for j in range(N):\n",
    "            \n",
    "            a = mat[i,j]\n",
    "            \n",
    "            #globule_rouge+venin\n",
    "            if a[3] > 0:\n",
    "                a[0] = a[0] - a[0]*veninefficacite\n",
    "            #globule_blanc+venin\n",
    "            if a[3] > 0:\n",
    "                a[3] = a[3] - a[1]*globule_blancefficacite\n",
    "                a[1] = 0\n",
    "                a[6] = 10\n",
    "            #plaquettes+plaquettes\n",
    "            a[4] = a[4] + a[2]*plaquettescoagulation\n",
    "            a[2] = a[2] - a[2]/plaquettescoagulation\n",
    "            #coagulation+anti_coagulant\n",
    "            if a[5]>0:\n",
    "                a[4] = a[4] - a[5]*anti_coagulantefficacite\n",
    "                a[5] = a[5] - a[5]/anti_coagulantefficacite\n",
    "            #globule_blanc+coagulation\n",
    "            a[4] = a[4] - a[1]*globule_blancefficacite\n",
    "            #venin+anti_coagulant\n",
    "            if a[3] > 0 and a[5]:\n",
    "                a[3] = a[3] - a[5]*anti_coagulantefficacite\n",
    "                a[5] = a[5] - a[5]/anti_coagulantefficacite\n",
    "            \n",
    "            matrix[i,j] = a\n",
    "    return matrix\n",
    "            "
   ]
  },
  {
   "cell_type": "code",
   "execution_count": 97,
   "metadata": {},
   "outputs": [
    {
     "data": {
      "text/plain": [
       "array([[[ 0.95165668,  0.0011119 , -0.4250828 ,  0.        ,\n",
       "          0.05184338,  0.        ,  1.        ],\n",
       "        [ 0.9410252 ,  0.00135642, -0.51856538,  0.        ,\n",
       "          0.06324457,  0.        ,  1.        ]],\n",
       "\n",
       "       [[ 0.92407055,  0.00174638, -0.66764762,  0.        ,\n",
       "          0.08142674,  0.        ,  1.        ],\n",
       "        [ 0.95621118,  0.00100714, -0.38503507,  0.        ,\n",
       "          0.04695913,  0.        ,  1.        ]]])"
      ]
     },
     "execution_count": 97,
     "metadata": {},
     "output_type": "execute_result"
    }
   ],
   "source": [
    "selfinteract(init_matrice(2),2)"
   ]
  },
  {
   "cell_type": "code",
   "execution_count": 98,
   "metadata": {},
   "outputs": [],
   "source": [
    "def interact(mat,i,j,k,l):\n",
    "    mat[i,j,3] = mat[i,j,3] + mat[k,l,3]*veninechange\n",
    "    mat[k,l,3] = mat[k,l,3] + mat[j,k,3]*veninechange\n",
    "    \n",
    "    mat[i,j,1] = mat[i,j,1] + mat[k,l,1]*globule_blancechange\n",
    "    mat[k,l,1] = mat[k,l,1] + mat[i,j,1]*globule_blancechange\n",
    "    return mat"
   ]
  },
  {
   "cell_type": "code",
   "execution_count": 99,
   "metadata": {},
   "outputs": [],
   "source": [
    "def inter_1(N,mat):\n",
    "    \n",
    "    \n",
    "    for i in range(N):\n",
    "        for j in range(N):\n",
    "            a = mat[i,j]\n",
    "            if a[3] > 0 :\n",
    "                k = np.random.choice(4)\n",
    "                if k == 0 and i > 0:\n",
    "                    return interact(mat,i,j,i-1,j)\n",
    "                elif k == 1 and j < N:\n",
    "                    return interact(mat,i,j,i,j+1)\n",
    "                elif k == 2 and i < N :\n",
    "                    return interact(mat,i,j,i+1,j)\n",
    "                elif k == 3 and j > 0:\n",
    "                    return interact(mat,i,j,i,j-1)"
   ]
  },
  {
   "cell_type": "code",
   "execution_count": 100,
   "metadata": {},
   "outputs": [],
   "source": [
    "def main(N,n):\n",
    "    mat = init_matrice(N)\n",
    "    rlist=[mat]\n",
    "    for i in range(n):\n",
    "        #mat = inter_1(N,mat)\n",
    "        mat = selfinteract(mat,N)\n",
    "        rlist.append(mat)\n",
    "    return lis_co(rlist,N)\n",
    "            \n",
    "            \n",
    "\n",
    "\n",
    "        \n",
    "    "
   ]
  },
  {
   "cell_type": "code",
   "execution_count": 101,
   "metadata": {},
   "outputs": [],
   "source": [
    "def lis_co(lis,N):\n",
    "    \"\"\"list[mat(cell)]*int => list(mat[float])\n",
    "    convertie une liste de matrice de cellule en liste de matrice de float (Coagulation)\"\"\"\n",
    "    long=len(lis)\n",
    "    Lr = np.zeros((long,N,N))\n",
    "    #mat : mat(cell)\n",
    "    for n in range(long):\n",
    "        mat = lis[n]\n",
    "        for i in range(N):\n",
    "            for j in range(N):\n",
    "                Lr[n,i,j] = mat[i,j,4]\n",
    "                \n",
    "    return Lr\n",
    "                "
   ]
  },
  {
   "cell_type": "code",
   "execution_count": 102,
   "metadata": {},
   "outputs": [
    {
     "name": "stdout",
     "output_type": "stream",
     "text": [
      "[[[0.10611133 0.03719163]\n",
      "  [0.05330873 0.11422311]]\n",
      "\n",
      " [[0.10880439 0.04442098]\n",
      "  [0.07113952 0.07299614]]\n",
      "\n",
      " [[0.06501227 0.08950647]\n",
      "  [0.07450967 0.0510828 ]]\n",
      "\n",
      " [[0.02040387 0.06365114]\n",
      "  [0.10265143 0.07514666]]]\n"
     ]
    }
   ],
   "source": [
    "liss = [init_matrice(2) for n in range(4)]\n",
    "\n",
    "azerty=lis_co(liss,2)\n",
    "print(azerty)"
   ]
  },
  {
   "cell_type": "code",
   "execution_count": null,
   "metadata": {},
   "outputs": [],
   "source": []
  },
  {
   "cell_type": "code",
   "execution_count": 103,
   "metadata": {},
   "outputs": [
    {
     "data": {
      "text/plain": [
       "'def dectohex(n):\\n    p=8\\n    hexlist=[\\'0\\',\\'1\\',\\'2\\',\\'3\\',\\'4\\',\\'5\\',\\'6\\',\\'7\\',\\'8\\',\\'9\\',\\'A\\',\\'B\\',\\'C\\',\\'D\\',\\'E\\',\\'F\\']\\n    binlist=[0,0,0,0,0,0,0,0]\\n    r=\\'\\'\\n    while p!=0:\\n        p=p-1\\n        if 2**p <= n:\\n            n=n-2**p\\n            binlist[p] = 1\\n    c=0\\n    s=0\\n    for i in range(0,4):\\n        s = s+ (2**i)*binlist[i+4]\\n        c=c+1\\n    r = \\'#\\'+ hexlist[s] \\n    \\n    c=0\\n    s=0\\n    for i in range(0,4):\\n        s = s+ (2**i)*binlist[i]\\n        c=c+1\\n    r = r + hexlist[s] +\"0000\"\\n        \\n    print(binlist)\\n    return r '"
      ]
     },
     "execution_count": 103,
     "metadata": {},
     "output_type": "execute_result"
    }
   ],
   "source": [
    "\"\"\"def dectohex(n):\n",
    "    p=8\n",
    "    hexlist=['0','1','2','3','4','5','6','7','8','9','A','B','C','D','E','F']\n",
    "    binlist=[0,0,0,0,0,0,0,0]\n",
    "    r=''\n",
    "    while p!=0:\n",
    "        p=p-1\n",
    "        if 2**p <= n:\n",
    "            n=n-2**p\n",
    "            binlist[p] = 1\n",
    "    c=0\n",
    "    s=0\n",
    "    for i in range(0,4):\n",
    "        s = s+ (2**i)*binlist[i+4]\n",
    "        c=c+1\n",
    "    r = '#'+ hexlist[s] \n",
    "    \n",
    "    c=0\n",
    "    s=0\n",
    "    for i in range(0,4):\n",
    "        s = s+ (2**i)*binlist[i]\n",
    "        c=c+1\n",
    "    r = r + hexlist[s] +\"0000\"\n",
    "        \n",
    "    print(binlist)\n",
    "    return r \"\"\""
   ]
  },
  {
   "cell_type": "code",
   "execution_count": 104,
   "metadata": {},
   "outputs": [
    {
     "data": {
      "text/plain": [
       "array([[[8.97919838e-01, 2.34784373e-03, 9.97323184e-02, 0.00000000e+00,\n",
       "         9.97323184e-02, 0.00000000e+00, 1.00000000e+00],\n",
       "        [9.84956093e-01, 3.46009871e-04, 1.46978976e-02, 0.00000000e+00,\n",
       "         1.46978976e-02, 0.00000000e+00, 1.00000000e+00]],\n",
       "\n",
       "       [[9.50740633e-01, 1.13296543e-03, 4.81264012e-02, 0.00000000e+00,\n",
       "         4.81264012e-02, 0.00000000e+00, 1.00000000e+00],\n",
       "        [9.03229148e-01, 2.22572959e-03, 9.45451222e-02, 0.00000000e+00,\n",
       "         9.45451222e-02, 0.00000000e+00, 1.00000000e+00]]])"
      ]
     },
     "execution_count": 104,
     "metadata": {},
     "output_type": "execute_result"
    }
   ],
   "source": [
    "init_matrice(2)"
   ]
  },
  {
   "cell_type": "code",
   "execution_count": 107,
   "metadata": {},
   "outputs": [
    {
     "data": {
      "text/plain": [
       "array([[[0.10206544, 0.09742526, 0.07442638, 0.052219  ],\n",
       "        [0.05887162, 0.09633727, 0.10816471, 0.08185485],\n",
       "        [0.11156716, 0.08742091, 0.03490189, 0.01922098],\n",
       "        [0.08724011, 0.07318841, 0.11057359, 0.11220134]]])"
      ]
     },
     "execution_count": 107,
     "metadata": {},
     "output_type": "execute_result"
    }
   ],
   "source": [
    "main(4,0)"
   ]
  },
  {
   "cell_type": "code",
   "execution_count": null,
   "metadata": {},
   "outputs": [],
   "source": []
  }
 ],
 "metadata": {
  "kernelspec": {
   "display_name": "Python 3",
   "language": "python",
   "name": "python3"
  },
  "language_info": {
   "codemirror_mode": {
    "name": "ipython",
    "version": 3
   },
   "file_extension": ".py",
   "mimetype": "text/x-python",
   "name": "python",
   "nbconvert_exporter": "python",
   "pygments_lexer": "ipython3",
   "version": "3.6.4"
  }
 },
 "nbformat": 4,
 "nbformat_minor": 2
}
