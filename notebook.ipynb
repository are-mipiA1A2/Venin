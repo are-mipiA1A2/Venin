{
 "cells": [
  {
   "cell_type": "markdown",
   "metadata": {},
   "source": [
    "# Are-MipiA1A2 : Venin"
   ]
  },
  {
   "cell_type": "code",
   "execution_count": 345,
   "metadata": {},
   "outputs": [],
   "source": [
    "import numpy as np\n",
    "from numpy import random\n",
    "import matplotlib.pyplot as plt\n",
    "\n",
    "\n",
    "#class agent :\n",
    "#    def __init__(self):\n",
    "#        self.efficacite= 0.1\n",
    "#        self.spawn = 0.1\n",
    "#        self.coagulation = 0.1\n",
    "#        self.perte = 0.1\n",
    "#\n",
    "#globule_rouge = agent()\n",
    "#globule_blanc = agent()\n",
    "#plaquette = agent()\n",
    "#venin = agent()\n",
    "#coagulation = agent()\n",
    "#anti_coagulant = agent()\n",
    "\n",
    "\n",
    "\n",
    "#\"\"\"Type : Cell = List[float**6]\"\"\"\n",
    "\n",
    "\n",
    "\n",
    "\n",
    "\n",
    "anti_coagulantefficacite = 0.1\n",
    "globule_blancefficacite = 0.1\n",
    "veninefficacite = 0.5\n",
    "plaquettescoagulation = 0.1\n",
    "veninechange=0.5\n",
    "globule_blancechange=0.5"
   ]
  },
  {
   "cell_type": "code",
   "execution_count": 346,
   "metadata": {},
   "outputs": [],
   "source": [
    "def init_matrice(N):\n",
    "    \"\"\"Int -> Mat[Cell]\n",
    "    crée une matrice de taille N*N de type : Mat[list[Gr,Gb,Pl,Ve,Co,Ac,boost]]\"\"\"\n",
    "    matrix = np.zeros((N,N,7))\n",
    "    mat = np.random.uniform(low=0.878, high=0.985, size=(N,N))\n",
    "    for i in range(N):\n",
    "        for j in range(N):\n",
    "            x = mat[i,j]\n",
    "            matrix[i,j]=(x , (1 - x)*0.023 , (1 - x)*0.977,0,(1 - x)*0.977,0,1)\n",
    "    return matrix\n",
    "            "
   ]
  },
  {
   "cell_type": "code",
   "execution_count": 347,
   "metadata": {},
   "outputs": [],
   "source": [
    "def init_matrice_venin(N,x,y,Ve):\n",
    "    matrix = np.zeros((N,N,7))\n",
    "    mat = np.random.uniform(low=0.878, high=0.985, size=(N,N))\n",
    "    for i in range(N):\n",
    "        for j in range(N):\n",
    "            a = mat[i,j]\n",
    "            matrix[i,j]=(a , (1 - a)*0.023 , (1 - a)*0.977,0,(1 - a)*0.977,0,1)\n",
    "    matrix[x,y,3]=Ve\n",
    "    return matrix"
   ]
  },
  {
   "cell_type": "code",
   "execution_count": 348,
   "metadata": {},
   "outputs": [],
   "source": [
    "def randomlist(N):\n",
    "    \"\"\"Int => list[int]*\n",
    "    retourne une liste de nombres dans un ordre aléatoire len(list)=N \"\"\"\n",
    "    list0 = [i for i in range(N)]\n",
    "    list1=[]\n",
    "    rlist=[]\n",
    "    for i in range(n):\n",
    "        e = np.random.choice(len(list0))\n",
    "        rlist.append(list0[e])\n",
    "        list1=[j for j in list0 if j!=list0[e]]\n",
    "        list0=list1\n",
    "    return rlist"
   ]
  },
  {
   "cell_type": "code",
   "execution_count": 349,
   "metadata": {},
   "outputs": [],
   "source": [
    "def selfinteract(mat,N):\n",
    "    matrix = mat.copy()\n",
    "    a = [0 for i in range(7)]\n",
    "    for i in range(N):\n",
    "        for j in range(N):\n",
    "            \n",
    "            a = mat[i,j].copy()\n",
    "            \n",
    "            #globule_rouge+venin\n",
    "            if a[3] > 0:\n",
    "                a[0] = a[0] - a[0]*veninefficacite\n",
    "                if a[3]<0:\n",
    "                    a[0] = 0\n",
    "            #globule_blanc+venin\n",
    "            if a[3] > 0:\n",
    "                a[3] = a[3] - a[1]*globule_blancefficacite\n",
    "                a[1] = 0\n",
    "                a[6] = 10\n",
    "            #plaquettes+plaquettes\n",
    "            a[4] = a[4] + a[2]*plaquettescoagulation\n",
    "            a[2] = a[2] - a[2]/plaquettescoagulation\n",
    "            #coagulation+anti_coagulant\n",
    "            if a[5]>0:\n",
    "                a[4] = a[4] - a[5]*anti_coagulantefficacite\n",
    "                a[5] = a[5] - a[5]/anti_coagulantefficacite\n",
    "            #globule_blanc+coagulation\n",
    "            a[4] = a[4] - a[1]*globule_blancefficacite\n",
    "            if a[4] <0:\n",
    "                a[4] = 0\n",
    "            #venin+anti_coagulant\n",
    "            if a[3] > 0 and a[5]:\n",
    "                a[3] = a[3] - a[5]*anti_coagulantefficacite\n",
    "                a[5] = a[5] - a[5]/anti_coagulantefficacite\n",
    "            \n",
    "            #coagulation\n",
    "            if a[3]>0:\n",
    "                a[4]=a[4]+a[3] *veninefficacite\n",
    "                if a[4]>1:\n",
    "                    a[4]=1\n",
    "            \n",
    "            matrix[i,j] = a\n",
    "    return matrix\n",
    "            "
   ]
  },
  {
   "cell_type": "code",
   "execution_count": 350,
   "metadata": {},
   "outputs": [],
   "source": [
    "def interact(mat,i,j,k,l):\n",
    "    matr = mat.copy()\n",
    "    matr[i,j,3] = mat[i,j,3] + mat[k,l,3]*veninechange - mat[i,j,3]*veninechange\n",
    "    matr[k,l,3] = mat[k,l,3] + mat[j,k,3]*veninechange - mat[k,l,3]*veninechange\n",
    "    \n",
    "    matr[i,j,1] = mat[i,j,1] + mat[k,l,1]*globule_blancechange - mat[i,j,1]*globule_blancechange\n",
    "    matr[k,l,1] = mat[k,l,1] + mat[i,j,1]*globule_blancechange - mat[k,l,1]*globule_blancechange\n",
    "    return matr"
   ]
  },
  {
   "cell_type": "code",
   "execution_count": 351,
   "metadata": {},
   "outputs": [],
   "source": [
    "def inter_1(N,mat):\n",
    "    \n",
    "    \n",
    "    for i in range(N):\n",
    "        for j in range(N):\n",
    "            a = mat[i,j]\n",
    "            if a[3] > 0 :\n",
    "                k = np.random.choice(4)\n",
    "                if k == 0 and i > 0:\n",
    "                    return interact(mat,i,j,i-1,j)\n",
    "                if k == 1 and j < N:\n",
    "                    return interact(mat,i,j,i,j+1)\n",
    "                if k == 2 and i < N :\n",
    "                    return interact(mat,i,j,i+1,j)\n",
    "                if k == 3 and j > 0:\n",
    "                    return interact(mat,i,j,i,j-1)\n",
    "            \n",
    "            return mat"
   ]
  },
  {
   "cell_type": "code",
   "execution_count": 352,
   "metadata": {},
   "outputs": [],
   "source": [
    "def inter_2(N,mat):\n",
    "    for i in range(N):\n",
    "        for j in range(N):\n",
    "            a =  mat[i,j].copy()\n",
    "            if a[3] > 0 :\n",
    "                if i>0:\n",
    "                    mat = interact(mat,i,j,i-1,j)\n",
    "                if j<N-1:\n",
    "                    mat = interact(mat,i,j,i,j+1)\n",
    "                if i<N-1:\n",
    "                    mat = interact(mat,i,j,i+1,j)\n",
    "                if j>0:\n",
    "                    mat = interact(mat,i,j,i,j-1)\n",
    "    return mat\n",
    "            "
   ]
  },
  {
   "cell_type": "code",
   "execution_count": 353,
   "metadata": {},
   "outputs": [],
   "source": [
    "def lis_co(lis,N):\n",
    "    \"\"\"list[mat(cell)]*int => list(mat[float])\n",
    "    convertie une liste de matrice de cellule en liste de matrice de float (Coagulation)\"\"\"\n",
    "    long=len(lis)\n",
    "    Lr = np.zeros((long,N,N))\n",
    "    mat : mat(cell)\n",
    "    for n in range(long):\n",
    "        mat = lis[n]\n",
    "        for i in range(N):\n",
    "            for j in range(N):\n",
    "                Lr[n,i,j] = mat[i,j,4]\n",
    "                \n",
    "    return Lr\n",
    "                "
   ]
  },
  {
   "cell_type": "code",
   "execution_count": 354,
   "metadata": {},
   "outputs": [],
   "source": [
    "def main(N,x,y,Ve,n):\n",
    "    mat = init_matrice_venin(N,x,y,Ve)\n",
    "    rlist=np.zeros((n+1,N,N,7))\n",
    "    rlist[0,:,:,:] = mat.copy()\n",
    "    for i in range(n):\n",
    "        mat = inter_2(N,mat)\n",
    "        mat = selfinteract(mat,N)\n",
    "        rlist[i+1,:,:,:] = mat[:,:,:]\n",
    "    return rlist[:,:,:,4]\n",
    "    "
   ]
  },
  {
   "cell_type": "code",
   "execution_count": 355,
   "metadata": {},
   "outputs": [
    {
     "data": {
      "text/plain": [
       "array([[[0.09517179, 0.04055197, 0.06345944],\n",
       "        [0.10378948, 0.0249267 , 0.0241136 ],\n",
       "        [0.08837191, 0.08289464, 0.11267943]],\n",
       "\n",
       "       [[0.10446492, 0.04453009, 0.06969723],\n",
       "        [0.17657458, 0.12108982, 0.07135681],\n",
       "        [0.12836387, 0.12820085, 0.16096411]],\n",
       "\n",
       "       [[0.01869829, 0.03139793, 0.02033706],\n",
       "        [0.11544204, 0.13702034, 0.08307005],\n",
       "        [0.08185985, 0.08737531, 0.09333227]],\n",
       "\n",
       "       [[0.80571479, 0.38756555, 0.55768023],\n",
       "        [0.98603866, 0.37099845, 0.30941565],\n",
       "        [0.82841317, 0.79022026, 1.        ]],\n",
       "\n",
       "       [[0.02590634, 0.02927398, 0.02810205],\n",
       "        [0.0298244 , 0.03062976, 0.03037095],\n",
       "        [0.03025883, 0.03051622, 0.03051622]],\n",
       "\n",
       "       [[1.        , 1.        , 1.        ],\n",
       "        [1.        , 1.        , 1.        ],\n",
       "        [1.        , 1.        , 1.        ]],\n",
       "\n",
       "       [[0.02960917, 0.02997137, 0.02986377],\n",
       "        [0.03003146, 0.03012369, 0.03009955],\n",
       "        [0.03008629, 0.03011618, 0.03011618]],\n",
       "\n",
       "       [[1.        , 1.        , 1.        ],\n",
       "        [1.        , 1.        , 1.        ],\n",
       "        [1.        , 1.        , 1.        ]],\n",
       "\n",
       "       [[0.03001275, 0.03005418, 0.0300423 ],\n",
       "        [0.03006101, 0.03007154, 0.03006886],\n",
       "        [0.03006735, 0.03007076, 0.03007076]],\n",
       "\n",
       "       [[1.        , 1.        , 1.        ],\n",
       "        [1.        , 1.        , 1.        ],\n",
       "        [1.        , 1.        , 1.        ]],\n",
       "\n",
       "       [[0.03005891, 0.03006366, 0.03006231],\n",
       "        [0.03006444, 0.03006565, 0.03006534],\n",
       "        [0.03006517, 0.03006556, 0.03006556]]])"
      ]
     },
     "execution_count": 355,
     "metadata": {},
     "output_type": "execute_result"
    }
   ],
   "source": [
    "main(3,1,1,2,10)"
   ]
  }
 ],
 "metadata": {
  "kernelspec": {
   "display_name": "Python 3",
   "language": "python",
   "name": "python3"
  },
  "language_info": {
   "codemirror_mode": {
    "name": "ipython",
    "version": 3
   },
   "file_extension": ".py",
   "mimetype": "text/x-python",
   "name": "python",
   "nbconvert_exporter": "python",
   "pygments_lexer": "ipython3",
   "version": "3.6.4"
  }
 },
 "nbformat": 4,
 "nbformat_minor": 2
}
