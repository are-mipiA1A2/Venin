{
 "cells": [
  {
   "cell_type": "markdown",
   "metadata": {},
   "source": [
    "# Are-MipiA1A2 : Venin"
   ]
  },
  {
   "cell_type": "code",
   "execution_count": 13,
   "metadata": {},
   "outputs": [
    {
     "data": {
      "text/plain": [
       "'Type : Cell = List[float**6]'"
      ]
     },
     "execution_count": 13,
     "metadata": {},
     "output_type": "execute_result"
    }
   ],
   "source": [
    "import numpy as np\n",
    "from numpy import random\n",
    "import matplotlib.pyplot as plt\n",
    "\n",
    "\n",
    "class agent :\n",
    "    def __init__(self):\n",
    "        self.efficacite= 0.1\n",
    "        self.spawn = 0.1\n",
    "        self.coagulation = 0.1\n",
    "        self.perte = 0.1\n",
    "\n",
    "globule_rouge = agent()\n",
    "globule_blanc = agent()\n",
    "plaquette = agent()\n",
    "venin = agent()\n",
    "coagulation = agent()\n",
    "anti_coagulant = agent()\n",
    "\n",
    "\n",
    "\n",
    "\"\"\"Type : Cell = List[float**6]\"\"\""
   ]
  },
  {
   "cell_type": "code",
   "execution_count": 32,
   "metadata": {},
   "outputs": [],
   "source": [
    "def init_matrice(N):\n",
    "    \"\"\"Int -> Mat[Cell]\n",
    "    crée une matrice de taille N*N de type : Mat[list[Gr,Gb,Pl,Ve,Co,Ac,boost]]\"\"\"\n",
    "    matrix = np.zeros((N,N,7))\n",
    "    mat = np.random.uniform(low=0.878, high=0.985, size=(N,N))\n",
    "    for i in range(N):\n",
    "        for j in range(N):\n",
    "            x = mat[i,j]\n",
    "            matrix[i,j]=(x , (1 - x)*0.023 , (1 - x)*0.977,0,(1 - x)*0.977,0,0)\n",
    "    return matrix\n",
    "            "
   ]
  },
  {
   "cell_type": "code",
   "execution_count": 15,
   "metadata": {},
   "outputs": [],
   "source": [
    "def randomlist(N):\n",
    "    \"\"\"Int => list[int]*\n",
    "    retourne une liste de nombres dans un ordre aléatoire len(list)=N \"\"\"\n",
    "    list0 = [i for i in range(N)]\n",
    "    list1=[]\n",
    "    rlist=[]\n",
    "    for i in range(n):\n",
    "        e = np.random.choice(len(list0))\n",
    "        rlist.append(list0[e])\n",
    "        list1=[j for j in list0 if j!=list0[e]]\n",
    "        list0=list1\n",
    "    return rlist"
   ]
  },
  {
   "cell_type": "code",
   "execution_count": 83,
   "metadata": {},
   "outputs": [],
   "source": [
    "def selfinteract(mat,N):\n",
    "    matrix = np.zeros((N,N,7))\n",
    "    for i in range(N):\n",
    "        for j in range(N):\n",
    "            \"\"\"\n",
    "            plaquettes + plaquettes => -plaquettes +coagulation\n",
    "            globules blanc + venin =>  - globules blanc -venin\n",
    "            globules rouges + venin => -globules rouges -venin\n",
    "            coagulation + anticoagulant => -coagulation -anticoagulant\n",
    "            venin + anticoagulant => -venin -anticoagulant\n",
    "            globules blanc + coagulation => globules blancs - coagulation\n",
    "            \n",
    "            interact(mat,i,j,i,j,\"Pl\",\"Pl\")\n",
    "            interact(mat,i,j,i,j,\"Gb\",\"Ve\")\n",
    "            interact(mat,i,j,i,j,\"Gr\",\"Ve\")\n",
    "            interact(mat,i,j,i,j,\"Co\",\"Ac\")\n",
    "            interact(mat,i,j,i,j,\"Ve\",\"Ac\")\n",
    "            interact(mat,i,j,i,j,\"Gb\",\"Co\") \"\"\"\n",
    "            \n",
    "            a=[]\n",
    "            a = mat[i,j]\n",
    "              \n",
    "            #globule_rouge+venin\n",
    "            #a[0] = a[0] - a[0]*venin.efficacite\n",
    "            #globule_blanc+venin[]\n",
    "            #a[3] = a[3] - a[1]*globule_blanc.efficacite\n",
    "            #a[1] = 0\n",
    "            #a[6] = 1\n",
    "            #plaquettes+plaquettes\n",
    "            #a[4] = a[4] + a[2]*plaquettes.coagulation\n",
    "            #a[2] = a[2] - a[2]/plaquettes.coagulation\n",
    "            #coagulation+anti_coagulant\n",
    "            #a[4] = a[4] - a[5]*anti_coagulant.efficacite\n",
    "            #a[5] = a[5] - a[5]/anti_coagulant.efficacite\n",
    "            #globule_blanc+coagulation\n",
    "            #a[4] = a[4] - a[1]*globule_blanc.efficacite\n",
    "            #venin+anti_coagulant\n",
    "            #a[3] = a[3] - a[5]*anti_coagulant.efficacite\n",
    "            #a[5] = a[5] - a[5]/anti_coagulant.efficacite\n",
    "            print(a)\n",
    "            matrix[i,j] = a\n",
    "    return matrix\n",
    "            "
   ]
  },
  {
   "cell_type": "code",
   "execution_count": 84,
   "metadata": {},
   "outputs": [
    {
     "name": "stdout",
     "output_type": "stream",
     "text": [
      "[[[9.56144333e-01 1.00868033e-03 4.28469862e-02 0.00000000e+00\n",
      "   4.28469862e-02 0.00000000e+00 0.00000000e+00]\n",
      "  [9.29092990e-01 1.63086124e-03 6.92761491e-02 0.00000000e+00\n",
      "   6.92761491e-02 0.00000000e+00 0.00000000e+00]]\n",
      "\n",
      " [[9.02154752e-01 2.25044070e-03 9.55948073e-02 0.00000000e+00\n",
      "   9.55948073e-02 0.00000000e+00 0.00000000e+00]\n",
      "  [9.76756923e-01 5.34590775e-04 2.27084864e-02 0.00000000e+00\n",
      "   2.27084864e-02 0.00000000e+00 0.00000000e+00]]]\n",
      "[0.95614433 0.00100868 0.04284699 0.         0.04284699 0.\n",
      " 0.        ]\n",
      "[0.92909299 0.00163086 0.06927615 0.         0.06927615 0.\n",
      " 0.        ]\n",
      "[0.90215475 0.00225044 0.09559481 0.         0.09559481 0.\n",
      " 0.        ]\n",
      "[9.76756923e-01 5.34590775e-04 2.27084864e-02 0.00000000e+00\n",
      " 2.27084864e-02 0.00000000e+00 0.00000000e+00]\n"
     ]
    },
    {
     "data": {
      "text/plain": [
       "array([[[9.56144333e-01, 1.00868033e-03, 4.28469862e-02, 0.00000000e+00,\n",
       "         4.28469862e-02, 0.00000000e+00, 0.00000000e+00],\n",
       "        [9.29092990e-01, 1.63086124e-03, 6.92761491e-02, 0.00000000e+00,\n",
       "         6.92761491e-02, 0.00000000e+00, 0.00000000e+00]],\n",
       "\n",
       "       [[9.02154752e-01, 2.25044070e-03, 9.55948073e-02, 0.00000000e+00,\n",
       "         9.55948073e-02, 0.00000000e+00, 0.00000000e+00],\n",
       "        [9.76756923e-01, 5.34590775e-04, 2.27084864e-02, 0.00000000e+00,\n",
       "         2.27084864e-02, 0.00000000e+00, 0.00000000e+00]]])"
      ]
     },
     "execution_count": 84,
     "metadata": {},
     "output_type": "execute_result"
    }
   ],
   "source": [
    "mat=init_matrice(2)\n",
    "print(mat)\n",
    "selfinteract(mat,2)"
   ]
  },
  {
   "cell_type": "code",
   "execution_count": 39,
   "metadata": {},
   "outputs": [],
   "source": [
    "#def interact\n",
    "def main(N,n):\n",
    "    \n",
    "    stop = False\n",
    "    mat = init_matrice(N)\n",
    "    rlist=[]\n",
    "    \n",
    "    while not stop:        \n",
    "        \n",
    "        mat = selfinteract(mat,N)\n",
    "            \n",
    "            \n",
    "            \n",
    "            \n",
    "            \n",
    "        \"\"\"    \n",
    "            \n",
    "        I = randomlsit(N)\n",
    "        J = randomlist(N)\n",
    "        \n",
    "        for i in I:\n",
    "            for j in J:\n",
    "                \n",
    "                interact(mat,i,j)\n",
    "        \n",
    "        mat = spawn(mat,N)\n",
    "        \n",
    "        rlist.append(mat.copy)\n",
    "        \n",
    "        stop = mort(mat) \"\"\"\n",
    "\n",
    "        \n",
    "    "
   ]
  },
  {
   "cell_type": "code",
   "execution_count": 20,
   "metadata": {},
   "outputs": [
    {
     "data": {
      "text/plain": [
       "'def dectohex(n):\\n    p=8\\n    hexlist=[\\'0\\',\\'1\\',\\'2\\',\\'3\\',\\'4\\',\\'5\\',\\'6\\',\\'7\\',\\'8\\',\\'9\\',\\'A\\',\\'B\\',\\'C\\',\\'D\\',\\'E\\',\\'F\\']\\n    binlist=[0,0,0,0,0,0,0,0]\\n    r=\\'\\'\\n    while p!=0:\\n        p=p-1\\n        if 2**p <= n:\\n            n=n-2**p\\n            binlist[p] = 1\\n    c=0\\n    s=0\\n    for i in range(0,4):\\n        s = s+ (2**i)*binlist[i+4]\\n        c=c+1\\n    r = \\'#\\'+ hexlist[s] \\n    \\n    c=0\\n    s=0\\n    for i in range(0,4):\\n        s = s+ (2**i)*binlist[i]\\n        c=c+1\\n    r = r + hexlist[s] +\"0000\"\\n        \\n    print(binlist)\\n    return r '"
      ]
     },
     "execution_count": 20,
     "metadata": {},
     "output_type": "execute_result"
    }
   ],
   "source": [
    "\"\"\"def dectohex(n):\n",
    "    p=8\n",
    "    hexlist=['0','1','2','3','4','5','6','7','8','9','A','B','C','D','E','F']\n",
    "    binlist=[0,0,0,0,0,0,0,0]\n",
    "    r=''\n",
    "    while p!=0:\n",
    "        p=p-1\n",
    "        if 2**p <= n:\n",
    "            n=n-2**p\n",
    "            binlist[p] = 1\n",
    "    c=0\n",
    "    s=0\n",
    "    for i in range(0,4):\n",
    "        s = s+ (2**i)*binlist[i+4]\n",
    "        c=c+1\n",
    "    r = '#'+ hexlist[s] \n",
    "    \n",
    "    c=0\n",
    "    s=0\n",
    "    for i in range(0,4):\n",
    "        s = s+ (2**i)*binlist[i]\n",
    "        c=c+1\n",
    "    r = r + hexlist[s] +\"0000\"\n",
    "        \n",
    "    print(binlist)\n",
    "    return r \"\"\""
   ]
  },
  {
   "cell_type": "code",
   "execution_count": null,
   "metadata": {},
   "outputs": [],
   "source": []
  }
 ],
 "metadata": {
  "kernelspec": {
   "display_name": "Python 3",
   "language": "python",
   "name": "python3"
  },
  "language_info": {
   "codemirror_mode": {
    "name": "ipython",
    "version": 3
   },
   "file_extension": ".py",
   "mimetype": "text/x-python",
   "name": "python",
   "nbconvert_exporter": "python",
   "pygments_lexer": "ipython3",
   "version": "3.6.4"
  }
 },
 "nbformat": 4,
 "nbformat_minor": 2
}
